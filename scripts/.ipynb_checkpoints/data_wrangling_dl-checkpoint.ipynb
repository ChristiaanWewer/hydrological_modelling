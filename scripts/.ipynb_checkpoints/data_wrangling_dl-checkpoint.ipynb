{
 "cells": [
  {
   "cell_type": "code",
   "execution_count": 1,
   "id": "c95f587a",
   "metadata": {},
   "outputs": [],
   "source": [
    "import numpy as np\n",
    "import numpy.ma as ma\n",
    "from osgeo import gdal\n",
    "import glob\n",
    "from osgeo import ogr\n",
    "from osgeo import osr\n",
    "from geographiclib.polygonarea import PolygonArea\n",
    "from geographiclib.geodesic import Geodesic\n",
    "import matplotlib.pyplot as plt\n",
    "import matplotlib\n",
    "from datetime import datetime, timedelta\n",
    "import pandas as pd"
   ]
  },
  {
   "cell_type": "code",
   "execution_count": 2,
   "id": "2622a541",
   "metadata": {},
   "outputs": [],
   "source": [
    "# useful info about data https://daac.ornl.gov/DAYMET/guides/Daymet_mosaics.html\n"
   ]
  },
  {
   "cell_type": "code",
   "execution_count": 3,
   "id": "010a9afb",
   "metadata": {},
   "outputs": [],
   "source": [
    "# load data\n",
    "first_year = 1980\n",
    "last_year = 2021 # till 2021 so 2021 not included\n",
    "tile_nr = '12273'\n",
    "path_to_folders = r'D:\\delft\\repro_proj\\data\\daymet\\daymet\\V4'\n",
    "file_names=['prcp.nc', 'tmax.nc', 'tmin.nc', 'vp.nc', 'srad.nc']\n",
    "file_paths = [[r'{}\\{}_{}\\{}_{}\\{}'.format(path_to_folders,\n",
    "                                           tile_nr,str(i),\n",
    "                                           tile_nr,str(i),\n",
    "                                           file) for i in range(first_year,last_year,1)] for file in file_names]"
   ]
  },
  {
   "cell_type": "code",
   "execution_count": 4,
   "id": "e2cf8a82",
   "metadata": {},
   "outputs": [],
   "source": [
    "def get_best_fitting_coord(base_coord, shape_coord, base_px_size):\n",
    "    \n",
    "    # function to get the most nearby coordinate from the shapefile coordinates within steps of the pixel size\n",
    "    new_coord = round((shape_coord - base_coord) / base_px_size) * base_px_size + base_coord\n",
    "    return new_coord\n",
    "\n",
    "\n",
    "# retrieve information about the first nc file \n",
    "first_file = gdal.Open(file_paths[0][0])\n",
    "rasterCount = first_file.RasterCount\n",
    "\n",
    "top_left_x, w_e_px_res, _, top_left_y, _, n_s_px_res = first_file.GetGeoTransform()\n",
    "\n",
    "# get geographic reference system of current datafile\n",
    "srs = osr.SpatialReference()\n",
    "srs.ImportFromWkt(first_file.GetProjection())\n",
    "geogcs = '{}:{}'.format(srs.GetAttrValue('AUTHORITY', 0), srs.GetAttrValue('AUTHORITY', 1))\n",
    "\n",
    "# retrieve information from shapefile\n",
    "# shape_loc = r'D:\\delft\\repro_proj\\data\\1337000\\basin_shape\\basin_dissolved.geojson'\n",
    "shape_loc = r'D:\\delft\\repro_proj\\data\\1337000\\basin_shape\\ab.shp' #make sure that it's in this annoying crs otherwise it is not working\n",
    "vector = ogr.Open(shape_loc)\n",
    "shape = vector.GetLayer(0)\n",
    "feature = shape.GetFeature(0)\n",
    "geom = feature.GetGeometryRef()\n",
    "env = geom.GetEnvelope()\n",
    "extent = [\n",
    "    get_best_fitting_coord(top_left_x, env[0], w_e_px_res),\n",
    "    get_best_fitting_coord(top_left_y, env[2], n_s_px_res),\n",
    "    get_best_fitting_coord(top_left_x, env[1], w_e_px_res),\n",
    "    get_best_fitting_coord(top_left_y, env[3], n_s_px_res)\n",
    "]\n",
    "\n",
    "# make memory location for file and transform shapefile into geotif\n",
    "memory_location = r'D:\\delft\\repro_proj\\data\\basin99.tif'\n",
    "c_r_gdal = gdal.Rasterize(memory_location, shape_loc, xRes=w_e_px_res, yRes=n_s_px_res,\n",
    "                                outputBounds=extent, burnValues=1, outputType=gdal.GDT_Byte,\n",
    "                                creationOptions=['COMPRESS=LZW', 'TILED=YES', 'NBITS=4'])"
   ]
  },
  {
   "cell_type": "code",
   "execution_count": 5,
   "id": "4d54a2bf",
   "metadata": {},
   "outputs": [
    {
     "data": {
      "text/plain": [
       "'PROJCS[\"unnamed\",GEOGCS[\"unknown\",DATUM[\"unnamed\",SPHEROID[\"Spheroid\",6378137,298.257223563]],PRIMEM[\"Greenwich\",0],UNIT[\"degree\",0.0174532925199433,AUTHORITY[\"EPSG\",\"9122\"]]],PROJECTION[\"Lambert_Conformal_Conic_2SP\"],PARAMETER[\"latitude_of_origin\",42.5],PARAMETER[\"central_meridian\",-100],PARAMETER[\"standard_parallel_1\",25],PARAMETER[\"standard_parallel_2\",60],PARAMETER[\"false_easting\",0],PARAMETER[\"false_northing\",0],UNIT[\"metre\",1,AUTHORITY[\"EPSG\",\"9001\"]],AXIS[\"Easting\",EAST],AXIS[\"Northing\",NORTH]]'"
      ]
     },
     "execution_count": 5,
     "metadata": {},
     "output_type": "execute_result"
    }
   ],
   "source": [
    "# check coordinate system \n",
    "srs.ExportToWkt()"
   ]
  },
  {
   "cell_type": "code",
   "execution_count": 6,
   "id": "4c9db70b",
   "metadata": {},
   "outputs": [
    {
     "data": {
      "text/plain": [
       "<matplotlib.image.AxesImage at 0x1775fb673d0>"
      ]
     },
     "execution_count": 6,
     "metadata": {},
     "output_type": "execute_result"
    },
    {
     "data": {
      "image/png": "[encoded data removed]",
      "text/plain": [
       "<Figure size 432x288 with 1 Axes>"
      ]
     },
     "metadata": {
      "needs_background": "light"
     },
     "output_type": "display_data"
    }
   ],
   "source": [
    "# read gridded basin shape\n",
    "basin_grid = np.logical_not(c_r_gdal.ReadAsArray())\n",
    "\n",
    "# show basin shape\n",
    "plt.imshow(basin_grid)"
   ]
  },
  {
   "cell_type": "code",
   "execution_count": 12,
   "id": "622aa934",
   "metadata": {},
   "outputs": [
    {
     "name": "stdout",
     "output_type": "stream",
     "text": [
      "basin size: 2791 m2\n"
     ]
    }
   ],
   "source": [
    "# get size of catchment\n",
    "pixels = np.sum((1 - basin_grid)) # also area in square meters because each pixel is 1x1 square meter\n",
    "print(f'basin size: {pixels} m2')"
   ]
  },
  {
   "cell_type": "code",
   "execution_count": 12,
   "id": "d6b6fcab",
   "metadata": {},
   "outputs": [],
   "source": [
    "# get information to read into specific point of raster\n",
    "top_left_x_c_r = extent[0]\n",
    "top_left_y_c_r = extent[3]\n",
    "size_c_r_x = c_r_gdal.RasterXSize\n",
    "size_c_r_y = c_r_gdal.RasterYSize\n",
    "x_offset = round(abs((top_left_x - top_left_x_c_r) / w_e_px_res))\n",
    "y_offset = round(abs((top_left_y_c_r - top_left_y) / n_s_px_res))"
   ]
  },
  {
   "cell_type": "code",
   "execution_count": 13,
   "id": "77827cf1",
   "metadata": {},
   "outputs": [],
   "source": [
    "# load datetimes of files into list (used for index of pandas dataframe)\n",
    "datetimeList = [datetime(j,1,1)+timedelta(days=i) for j in range(first_year,last_year) for i in range(rasterCount)]\n",
    "mask = np.repeat(np.expand_dims(basin_grid,axis=0),rasterCount,axis=0)\n",
    "length = len(datetimeList)"
   ]
  },
  {
   "cell_type": "code",
   "execution_count": 14,
   "id": "39988c08",
   "metadata": {},
   "outputs": [],
   "source": [
    "def get_timeseries_from_grids(numpy_statistic, file_paths, mask, length, x_offset, y_offset, size_c_r_x, size_c_r_y):\n",
    "    \"\"\"\n",
    "    Calculate time series from grids\n",
    "    numpy statistic: statistic from numpy e.g. np.average\n",
    "    file_paths: array with file paths to the netcdf file\n",
    "    length: total length time series\n",
    "    x_offset: x offset to crop into image \n",
    "    y_offset: y offset to crop into image\n",
    "    size_c_r_x: size of pixel x size\n",
    "    size_c_r_y: size of pixel y size\n",
    "    \"\"\"\n",
    "    \n",
    "    # create empty array for time series \n",
    "    time_series = np.zeros(length)\n",
    "    \n",
    "    # iterate over file paths of datasets\n",
    "    for j, path in enumerate(file_paths):\n",
    "        \n",
    "        # open dataset with gdal\n",
    "        file = gdal.Open(path)\n",
    "        \n",
    "        # read the dataset as an array at the right place and mask everything outside the array\n",
    "        ts_grids = ma.array(file.ReadAsArray(x_offset, y_offset, size_c_r_x, size_c_r_y), mask=mask)\n",
    "        \n",
    "        # calculate the numpy statistic of the array\n",
    "        aggregated_dataset = numpy_statistic(ts_grids, axis=(1,2))\n",
    "        \n",
    "        # get the count of the amount of rasters\n",
    "        rasterCount = file.RasterCount\n",
    "        \n",
    "        # merge time series in the empty array for time series\n",
    "        time_series[j*rasterCount:(j+1)*rasterCount] = aggregated_dataset\n",
    "        \n",
    "    return time_series"
   ]
  },
  {
   "cell_type": "code",
   "execution_count": 15,
   "id": "a33d7472",
   "metadata": {
    "scrolled": false
   },
   "outputs": [],
   "source": [
    "# make time series by iterating over different arrays with file paths\n",
    "ts_together = []\n",
    "for i,ds_path in enumerate(file_paths):\n",
    "    ts = get_timeseries_from_grids(np.average, ds_path, mask, length, x_offset, y_offset, size_c_r_x, size_c_r_y)\n",
    "    ts_together.append(ts)\n"
   ]
  },
  {
   "cell_type": "code",
   "execution_count": 16,
   "id": "bb1e5c01",
   "metadata": {},
   "outputs": [],
   "source": [
    "# create pandas dataframe\n",
    "df_dict = dict(zip(file_names, ts_together))\n",
    "df = pd.DataFrame(data=df_dict,index=datetimeList)"
   ]
  },
  {
   "cell_type": "code",
   "execution_count": 17,
   "id": "81cb9f7c",
   "metadata": {},
   "outputs": [
    {
     "data": {
      "text/html": [
       "<div>\n",
       "<style scoped>\n",
       "    .dataframe tbody tr th:only-of-type {\n",
       "        vertical-align: middle;\n",
       "    }\n",
       "\n",
       "    .dataframe tbody tr th {\n",
       "        vertical-align: top;\n",
       "    }\n",
       "\n",
       "    .dataframe thead th {\n",
       "        text-align: right;\n",
       "    }\n",
       "</style>\n",
       "<table border=\"1\" class=\"dataframe\">\n",
       "  <thead>\n",
       "    <tr style=\"text-align: right;\">\n",
       "      <th></th>\n",
       "      <th>prcp.nc</th>\n",
       "      <th>tmax.nc</th>\n",
       "      <th>tmin.nc</th>\n",
       "      <th>vp.nc</th>\n",
       "      <th>srad.nc</th>\n",
       "    </tr>\n",
       "  </thead>\n",
       "  <tbody>\n",
       "    <tr>\n",
       "      <th>1980-01-01</th>\n",
       "      <td>7.719036</td>\n",
       "      <td>2.635163</td>\n",
       "      <td>-7.404501</td>\n",
       "      <td>356.909575</td>\n",
       "      <td>108.665846</td>\n",
       "    </tr>\n",
       "    <tr>\n",
       "      <th>1980-01-02</th>\n",
       "      <td>3.660781</td>\n",
       "      <td>2.484138</td>\n",
       "      <td>-7.616933</td>\n",
       "      <td>350.118484</td>\n",
       "      <td>123.689874</td>\n",
       "    </tr>\n",
       "    <tr>\n",
       "      <th>1980-01-03</th>\n",
       "      <td>4.320509</td>\n",
       "      <td>0.016926</td>\n",
       "      <td>-5.137492</td>\n",
       "      <td>418.422967</td>\n",
       "      <td>74.293477</td>\n",
       "    </tr>\n",
       "    <tr>\n",
       "      <th>1980-01-04</th>\n",
       "      <td>13.075693</td>\n",
       "      <td>-1.130720</td>\n",
       "      <td>-15.443935</td>\n",
       "      <td>194.276939</td>\n",
       "      <td>143.881449</td>\n",
       "    </tr>\n",
       "    <tr>\n",
       "      <th>1980-01-05</th>\n",
       "      <td>15.739118</td>\n",
       "      <td>0.715120</td>\n",
       "      <td>-10.464246</td>\n",
       "      <td>281.074570</td>\n",
       "      <td>125.166372</td>\n",
       "    </tr>\n",
       "    <tr>\n",
       "      <th>...</th>\n",
       "      <td>...</td>\n",
       "      <td>...</td>\n",
       "      <td>...</td>\n",
       "      <td>...</td>\n",
       "      <td>...</td>\n",
       "    </tr>\n",
       "    <tr>\n",
       "      <th>2020-12-26</th>\n",
       "      <td>9.553654</td>\n",
       "      <td>1.765493</td>\n",
       "      <td>-2.767037</td>\n",
       "      <td>498.786322</td>\n",
       "      <td>78.079564</td>\n",
       "    </tr>\n",
       "    <tr>\n",
       "      <th>2020-12-27</th>\n",
       "      <td>0.000000</td>\n",
       "      <td>1.120165</td>\n",
       "      <td>-7.436844</td>\n",
       "      <td>352.652768</td>\n",
       "      <td>169.756729</td>\n",
       "    </tr>\n",
       "    <tr>\n",
       "      <th>2020-12-28</th>\n",
       "      <td>0.000000</td>\n",
       "      <td>1.487585</td>\n",
       "      <td>-10.289291</td>\n",
       "      <td>280.949682</td>\n",
       "      <td>195.669608</td>\n",
       "    </tr>\n",
       "    <tr>\n",
       "      <th>2020-12-29</th>\n",
       "      <td>0.000000</td>\n",
       "      <td>-3.133655</td>\n",
       "      <td>-9.776388</td>\n",
       "      <td>293.427445</td>\n",
       "      <td>144.142377</td>\n",
       "    </tr>\n",
       "    <tr>\n",
       "      <th>2020-12-30</th>\n",
       "      <td>10.383451</td>\n",
       "      <td>-1.180140</td>\n",
       "      <td>-6.880008</td>\n",
       "      <td>365.588028</td>\n",
       "      <td>100.622593</td>\n",
       "    </tr>\n",
       "  </tbody>\n",
       "</table>\n",
       "<p>14965 rows × 5 columns</p>\n",
       "</div>"
      ],
      "text/plain": [
       "              prcp.nc   tmax.nc    tmin.nc       vp.nc     srad.nc\n",
       "1980-01-01   7.719036  2.635163  -7.404501  356.909575  108.665846\n",
       "1980-01-02   3.660781  2.484138  -7.616933  350.118484  123.689874\n",
       "1980-01-03   4.320509  0.016926  -5.137492  418.422967   74.293477\n",
       "1980-01-04  13.075693 -1.130720 -15.443935  194.276939  143.881449\n",
       "1980-01-05  15.739118  0.715120 -10.464246  281.074570  125.166372\n",
       "...               ...       ...        ...         ...         ...\n",
       "2020-12-26   9.553654  1.765493  -2.767037  498.786322   78.079564\n",
       "2020-12-27   0.000000  1.120165  -7.436844  352.652768  169.756729\n",
       "2020-12-28   0.000000  1.487585 -10.289291  280.949682  195.669608\n",
       "2020-12-29   0.000000 -3.133655  -9.776388  293.427445  144.142377\n",
       "2020-12-30  10.383451 -1.180140  -6.880008  365.588028  100.622593\n",
       "\n",
       "[14965 rows x 5 columns]"
      ]
     },
     "execution_count": 17,
     "metadata": {},
     "output_type": "execute_result"
    }
   ],
   "source": [
    "df"
   ]
  },
  {
   "cell_type": "code",
   "execution_count": 18,
   "id": "89e15938",
   "metadata": {},
   "outputs": [],
   "source": [
    "#save dataframe into csv format\n",
    "df.to_csv(r'dataset.csv')"
   ]
  },
  {
   "cell_type": "code",
   "execution_count": 19,
   "id": "abed01d1",
   "metadata": {},
   "outputs": [
    {
     "data": {
      "text/plain": [
       "<AxesSubplot:>"
      ]
     },
     "execution_count": 19,
     "metadata": {},
     "output_type": "execute_result"
    },
    {
     "data": {
      "image/png": "[encoded data removed]",
      "text/plain": [
       "<Figure size 432x288 with 1 Axes>"
      ]
     },
     "metadata": {
      "needs_background": "light"
     },
     "output_type": "display_data"
    }
   ],
   "source": [
    "df['prcp.nc'].plot()"
   ]
  }
 ],
 "metadata": {
  "kernelspec": {
   "display_name": "Python 3 (ipykernel)",
   "language": "python",
   "name": "python3"
  },
  "language_info": {
   "codemirror_mode": {
    "name": "ipython",
    "version": 3
   },
   "file_extension": ".py",
   "mimetype": "text/x-python",
   "name": "python",
   "nbconvert_exporter": "python",
   "pygments_lexer": "ipython3",
   "version": "3.9.7"
  }
 },
 "nbformat": 4,
 "nbformat_minor": 5
}
