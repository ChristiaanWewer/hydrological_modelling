{
 "cells": [
  {
   "cell_type": "code",
   "execution_count": 1,
   "id": "fbea7da4",
   "metadata": {},
   "outputs": [],
   "source": [
    "from osgeo import gdal\n",
    "import numpy as np\n",
    "from matplotlib import pyplot as plt\n",
    "import pandas as pd\n",
    "from gis_tools import delineate_sub_basin\n",
    "import geopandas as gpd\n",
    "import csv\n",
    "import os\n",
    "import numpy as np\n",
    "from scipy.ndimage import binary_fill_holes\n",
    "from numba import jit\n",
    "import geopandas as gpd\n",
    "from osgeo import gdal\n",
    "\n"
   ]
  },
  {
   "cell_type": "code",
   "execution_count": 2,
   "id": "8cdd74c5",
   "metadata": {},
   "outputs": [],
   "source": [
    "fa_file = r'../HydroSHEDS/hyd_af_acc_30s/hyd_af_acc_30s_ext.tif'\n",
    "Q_stations = r'../self/discharge_stations.geojson' "
   ]
  },
  {
   "cell_type": "code",
   "execution_count": 3,
   "id": "aaf4d30b",
   "metadata": {},
   "outputs": [],
   "source": [
    "gdf_stations = gpd.read_file(Q_stations, index_col=[0])"
   ]
  },
  {
   "cell_type": "code",
   "execution_count": 4,
   "id": "32c232d1",
   "metadata": {},
   "outputs": [],
   "source": [
    "gdf_stations = gdf_stations[gdf_stations.stations == '1159110_Q_Day.Cmd.txt']"
   ]
  },
  {
   "cell_type": "code",
   "execution_count": 5,
   "id": "bbc1662b",
   "metadata": {},
   "outputs": [],
   "source": [
    "\n",
    "\n",
    "def delineate_sub_basin(flow_accumulation_grid, x, y, fill_holes=True, kernel_size=3):\n",
    "    \"\"\"\n",
    "    Function that delineates a sub basin from a flow accumulation and a starting point.\n",
    "    flow_accumulation_grid: 2d numpy array of flow accumulation\n",
    "    x: x starting point\n",
    "    y: y starting point\n",
    "    \"\"\"\n",
    "    \n",
    "    @jit(nopython=True)\n",
    "    def sub_basin_algo(x, y, flow_accumulation_grid, x_coords, y_coords, sub_basin_grid, kernel_size):\n",
    "\n",
    "        ic = 0\n",
    "        jc = 0\n",
    "        \n",
    "        while True:\n",
    "            y = y_coords[ic]\n",
    "            x = x_coords[ic]\n",
    "\n",
    "            # get value of coordinates\n",
    "            fa_val = flow_accumulation_grid[y,x]\n",
    "\n",
    "            # iterate over window to make new coordinates\n",
    "            for i in range(-kernel_size//2,kernel_size//2+1,1):\n",
    "                y_n = y + i\n",
    "\n",
    "                for j in range(-kernel_size//2,kernel_size//2+1,1):\n",
    "                    x_n = x + j\n",
    "\n",
    "                    # check if flow accumulation value of window is higher than original\n",
    "                    if not sub_basin_grid[y_n, x_n]:\n",
    "\n",
    "                        fa_val_new = flow_accumulation_grid[y_n, x_n]\n",
    "                        if fa_val_new < fa_val:\n",
    "                            jc += 1\n",
    "                            sub_basin_grid[y_n, x_n] = True\n",
    "                            y_coords[jc] = y_n\n",
    "                            x_coords[jc] = x_n\n",
    "\n",
    "            # increment counter\n",
    "            ic+=1\n",
    "            if ic > jc:\n",
    "                break\n",
    "                \n",
    "        return sub_basin_grid\n",
    "    \n",
    "    # make x and y coordinate array\n",
    "    x_coords = np.zeros(flow_accumulation_grid.shape[0] * flow_accumulation_grid.shape[1], dtype=int)\n",
    "    y_coords = np.zeros_like(x_coords, dtype=int)\n",
    "    x_coords[0] = x\n",
    "    y_coords[0] = y\n",
    "    \n",
    "    # make sub-basin grid\n",
    "    sub_basin_grid = np.full(flow_accumulation_grid.shape, False, dtype=bool)\n",
    "    sub_basin_grid[y, x] = True\n",
    "    \n",
    "    # compute sub_basin_grid\n",
    "    sub_basin_grid = sub_basin_algo(x, y, flow_accumulation_grid, x_coords, y_coords, sub_basin_grid, kernel_size)\n",
    "    \n",
    "    # fill holes in sub_basin_grid\n",
    "    if fill_holes:\n",
    "        sub_basin_grid = binary_fill_holes(sub_basin_grid)\n",
    "    \n",
    "    return sub_basin_grid\n",
    "\n",
    "\n",
    "def sub_basins_per_station(path_to_flow_accumulation, gdf_stations, kernel_size=3):\n",
    "    \"\"\"\n",
    "    Function that creates a binary numpy tensor with sub-catchments, starting at each station\n",
    "    path_to_flow_accumulation: path to flow accumulation file\n",
    "    gdf_stations: GeoDataFrame with stations\n",
    "    \"\"\"\n",
    "\n",
    "    # open gdal file\n",
    "    fa_gd = gdal.Open(path_to_flow_accumulation)\n",
    "    flow_accumulation_grid = fa_gd.ReadAsArray()\n",
    "\n",
    "    # open coordinates\n",
    "    top_left_lon, w_e_px_res, _, top_left_lat, _, n_s_px_res = fa_gd.GetGeoTransform()\n",
    "\n",
    "    # make 3d data block that fits all the basin arrays:\n",
    "    all_sub_basins_block = np.full((len(gdf_stations), flow_accumulation_grid.shape[0], flow_accumulation_grid.shape[1]), False, dtype=bool)\n",
    "\n",
    "    # iterate over stations\n",
    "    for i, (_,row) in enumerate(gdf_stations.iterrows()):\n",
    "        \n",
    "        # get lat and lon of stations\n",
    "        lat = row.lats\n",
    "        lon = row.lons\n",
    "        \n",
    "        # get x and y offsets of start point\n",
    "        x = int(np.floor((lon - top_left_lon)/w_e_px_res))\n",
    "        y = int(np.floor((lat - top_left_lat)/n_s_px_res))\n",
    "\n",
    "        # obtain delineation\n",
    "        sub_basin_grid = delineate_sub_basin(flow_accumulation_grid, x, y, kernel_size=kernel_size)\n",
    "        all_sub_basins_block[i] = sub_basin_grid\n",
    "    \n",
    "    return all_sub_basins_block\n"
   ]
  },
  {
   "cell_type": "code",
   "execution_count": 8,
   "id": "b794a304",
   "metadata": {},
   "outputs": [
    {
     "data": {
      "text/plain": [
       "<matplotlib.image.AxesImage at 0x7ffb762470a0>"
      ]
     },
     "execution_count": 8,
     "metadata": {},
     "output_type": "execute_result"
    },
    {
     "data": {
      "image/png": "[encoded data removed]",
      "text/plain": [
       "<Figure size 640x480 with 1 Axes>"
      ]
     },
     "metadata": {},
     "output_type": "display_data"
    }
   ],
   "source": [
    "arr = sub_basins_per_station(fa_file, gdf_stations, kernel_size=5)\n",
    "plt.imshow(arr[0])"
   ]
  },
  {
   "cell_type": "code",
   "execution_count": 10,
   "id": "16a67b0e",
   "metadata": {},
   "outputs": [
    {
     "data": {
      "text/plain": [
       "<AxesSubplot: >"
      ]
     },
     "execution_count": 10,
     "metadata": {},
     "output_type": "execute_result"
    },
    {
     "data": {
      "image/png": "[encoded data removed]",
      "text/plain": [
       "<Figure size 640x480 with 1 Axes>"
      ]
     },
     "metadata": {},
     "output_type": "display_data"
    }
   ],
   "source": [
    "gdf_stations.plot()"
   ]
  },
  {
   "cell_type": "code",
   "execution_count": 11,
   "id": "d0fc3931",
   "metadata": {},
   "outputs": [
    {
     "data": {
      "text/html": [
       "<div>\n",
       "<style scoped>\n",
       "    .dataframe tbody tr th:only-of-type {\n",
       "        vertical-align: middle;\n",
       "    }\n",
       "\n",
       "    .dataframe tbody tr th {\n",
       "        vertical-align: top;\n",
       "    }\n",
       "\n",
       "    .dataframe thead th {\n",
       "        text-align: right;\n",
       "    }\n",
       "</style>\n",
       "<table border=\"1\" class=\"dataframe\">\n",
       "  <thead>\n",
       "    <tr style=\"text-align: right;\">\n",
       "      <th></th>\n",
       "      <th>field_1</th>\n",
       "      <th>stations</th>\n",
       "      <th>lats</th>\n",
       "      <th>lons</th>\n",
       "      <th>start</th>\n",
       "      <th>end</th>\n",
       "      <th>geometry</th>\n",
       "    </tr>\n",
       "  </thead>\n",
       "  <tbody>\n",
       "  </tbody>\n",
       "</table>\n",
       "</div>"
      ],
      "text/plain": [
       "Empty GeoDataFrame\n",
       "Columns: [field_1, stations, lats, lons, start, end, geometry]\n",
       "Index: []"
      ]
     },
     "execution_count": 11,
     "metadata": {},
     "output_type": "execute_result"
    }
   ],
   "source": [
    "gdf_stations[gdf_stations['stations']=='1255100_Q_Day.Cmd.txt']"
   ]
  },
  {
   "cell_type": "code",
   "execution_count": null,
   "id": "f25c121f",
   "metadata": {},
   "outputs": [],
   "source": []
  }
 ],
 "metadata": {
  "kernelspec": {
   "display_name": "geo",
   "language": "python",
   "name": "python3"
  },
  "language_info": {
   "codemirror_mode": {
    "name": "ipython",
    "version": 3
   },
   "file_extension": ".py",
   "mimetype": "text/x-python",
   "name": "python",
   "nbconvert_exporter": "python",
   "pygments_lexer": "ipython3",
   "version": "3.10.8 (main, Nov 24 2022, 14:13:03) [GCC 11.2.0]"
  },
  "vscode": {
   "interpreter": {
    "hash": "d5bff7d11e28091c002af1898fb22dc88d08ee8553bb984c9cff7407112d1271"
   }
  }
 },
 "nbformat": 4,
 "nbformat_minor": 5
}
