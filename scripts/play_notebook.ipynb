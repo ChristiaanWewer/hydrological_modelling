{
 "cells": [
  {
   "cell_type": "code",
   "execution_count": 54,
   "id": "5f9f6cce",
   "metadata": {},
   "outputs": [],
   "source": [
    "from osgeo import gdal\n",
    "import numpy as np\n",
    "from matplotlib import pyplot as plt\n",
    "import pandas as pd\n",
    "from numba import jit\n",
    "from scipy import ndimage"
   ]
  },
  {
   "cell_type": "code",
   "execution_count": 2,
   "id": "d0c82de4",
   "metadata": {},
   "outputs": [],
   "source": [
    "fa_file = r'D:\\hydrological_modelling\\HydroSHEDS\\hyd_af_acc_30s\\hyd_af_acc_30s_ext.tif'\n",
    "Q_stations = r'D:\\hydrological_modelling\\grdc_africa\\gauged_runoff.csv' \n",
    "Q_station = r'1159105_Q_Day.Cmd.txt'"
   ]
  },
  {
   "cell_type": "code",
   "execution_count": 3,
   "id": "3acbd9a1",
   "metadata": {},
   "outputs": [],
   "source": [
    "df_stations = pd.read_csv(Q_stations, index_col=[0])\n",
    "selected_station = df_stations[df_stations.stations == Q_station]"
   ]
  },
  {
   "cell_type": "code",
   "execution_count": 4,
   "id": "c9b32ae5",
   "metadata": {},
   "outputs": [],
   "source": [
    "lat = selected_station.lats.iloc[0]\n",
    "lon = selected_station.lons.iloc[0]"
   ]
  },
  {
   "cell_type": "code",
   "execution_count": 94,
   "id": "e5192073",
   "metadata": {},
   "outputs": [],
   "source": [
    "# open gdal file\n",
    "ds = gdal.Open(fa_file)\n",
    "\n",
    "# open coordinates\n",
    "gt = ds.GetGeoTransform()\n",
    "xmin = gt[0]\n",
    "xmax = gt[0] + (gt[1] * ds.RasterXSize)\n",
    "ymin = gt[3] + (gt[-1] * ds.RasterYSize)\n",
    "ymax = gt[3]\n",
    "te = [xmin, ymin, xmax, ymax]\n",
    "\n",
    "# get x and y offsets of start point\n",
    "x_offset = int(np.floor((lon - top_left_lon)/w_e_px_res))\n",
    "y_offset = int(np.floor((lat - top_left_lat)/n_s_px_res))\n"
   ]
  },
  {
   "cell_type": "code",
   "execution_count": 95,
   "id": "6e2c6314",
   "metadata": {},
   "outputs": [],
   "source": [
    "import geopandas as gpd\n",
    "basins_ext_loc = r'D:\\hydrological_modelling\\self\\basins_ext.geojson'\n"
   ]
  },
  {
   "cell_type": "code",
   "execution_count": 96,
   "id": "136df161",
   "metadata": {},
   "outputs": [],
   "source": [
    "gpd_ext = gpd.read_file(r'D:\\hydrological_modelling\\self\\extent.geojson')\n",
    "basins = gpd.read_file(r'D:\\hydrological_modelling\\grdc_africa\\subregions.geojson')\n",
    "basins_ext = gpd.clip(basins, gpd_ext)\n",
    "basins_ext.to_file(basins_ext_loc, driver='GeoJSON')"
   ]
  },
  {
   "cell_type": "code",
   "execution_count": 97,
   "id": "205ecb31",
   "metadata": {},
   "outputs": [],
   "source": [
    "basins_raster_tif = r'D:\\hydrological_modelling\\self\\basins_raster.tif'"
   ]
  },
  {
   "cell_type": "code",
   "execution_count": 98,
   "id": "e9da5dd9",
   "metadata": {},
   "outputs": [],
   "source": [
    "br_ds = gdal.Rasterize(basins_raster_tif,\n",
    "                       basins_ext_loc,\n",
    "                       xRes=gt[1],\n",
    "                       yRes=gt[5],\n",
    "                       outputBounds=te,\n",
    "                       attribute='FID',\n",
    "                       outputType=gdal.GDT_Byte,\n",
    "                       creationOptions=['COMPRESS=LZW', 'TILED=YES'])"
   ]
  },
  {
   "cell_type": "code",
   "execution_count": 99,
   "id": "9dc44f61",
   "metadata": {},
   "outputs": [],
   "source": [
    "br_arr = br_ds.ReadAsArray()"
   ]
  },
  {
   "cell_type": "code",
   "execution_count": 100,
   "id": "be6ecf20",
   "metadata": {},
   "outputs": [
    {
     "data": {
      "text/plain": [
       "<matplotlib.image.AxesImage at 0x2095aae8250>"
      ]
     },
     "execution_count": 100,
     "metadata": {},
     "output_type": "execute_result"
    },
    {
     "data": {
      "image/png": "[encoded data removed]",
      "text/plain": [
       "<Figure size 432x288 with 1 Axes>"
      ]
     },
     "metadata": {
      "needs_background": "light"
     },
     "output_type": "display_data"
    }
   ],
   "source": [
    "plt.imshow(br_arr)"
   ]
  },
  {
   "cell_type": "code",
   "execution_count": 101,
   "id": "f577db4c",
   "metadata": {},
   "outputs": [],
   "source": [
    "# get offset of station on raster\n",
    "top_left_lon, w_e_px_res, _, top_left_lat, _, n_s_px_res = br_ds.GetGeoTransform()\n",
    "x_offset = int(np.floor((lon - top_left_lon)/w_e_px_res))\n",
    "y_offset = int(np.floor((lat - top_left_lat)/n_s_px_res))"
   ]
  },
  {
   "cell_type": "code",
   "execution_count": 102,
   "id": "2dfcc6c4",
   "metadata": {},
   "outputs": [],
   "source": [
    "# get flow accumulation raster\n",
    "flow_acc_arr = ds.ReadAsArray()"
   ]
  },
  {
   "cell_type": "code",
   "execution_count": 103,
   "id": "c7545740",
   "metadata": {},
   "outputs": [],
   "source": [
    "# get value of the basin the station is located in\n",
    "basin_val = br_arr[y_offset, x_offset]"
   ]
  },
  {
   "cell_type": "code",
   "execution_count": 135,
   "id": "e20d6716",
   "metadata": {},
   "outputs": [],
   "source": [
    "# make a raster with only the basin of this value\n",
    "basin_arr = flow_acc_arr (br_arr==basin_val).astype(int)\n",
    "\n",
    "# get the value of the flow accumulation of the station\n",
    "flow_val = flow_acc_arr[y_offset, x_offset]"
   ]
  },
  {
   "cell_type": "code",
   "execution_count": 136,
   "id": "2011aee2",
   "metadata": {},
   "outputs": [],
   "source": [
    "# make a raster with only upstream values of the station\n",
    "subbasin = (basin_arr<=flow_val).astype(int)"
   ]
  },
  {
   "cell_type": "code",
   "execution_count": 137,
   "id": "52426cc8",
   "metadata": {},
   "outputs": [
    {
     "data": {
      "text/plain": [
       "<matplotlib.collections.PathCollection at 0x20915a278e0>"
      ]
     },
     "execution_count": 137,
     "metadata": {},
     "output_type": "execute_result"
    },
    {
     "data": {
      "image/png": "[encoded data removed]",
      "text/plain": [
       "<Figure size 432x288 with 1 Axes>"
      ]
     },
     "metadata": {
      "needs_background": "light"
     },
     "output_type": "display_data"
    }
   ],
   "source": [
    "plt.imshow(subbasin)\n",
    "plt.scatter(x_offset, y_offset)"
   ]
  },
  {
   "cell_type": "code",
   "execution_count": null,
   "id": "17e8fe3f",
   "metadata": {},
   "outputs": [],
   "source": []
  },
  {
   "cell_type": "code",
   "execution_count": null,
   "id": "53bc4cf4",
   "metadata": {},
   "outputs": [],
   "source": []
  },
  {
   "cell_type": "code",
   "execution_count": 21,
   "id": "5fca351d",
   "metadata": {},
   "outputs": [
    {
     "data": {
      "text/plain": [
       "[array([ True,  True,  True, False, False, False]),\n",
       " array([False, False, False, False,  True,  True])]"
      ]
     },
     "execution_count": 21,
     "metadata": {},
     "output_type": "execute_result"
    }
   ],
   "source": [
    "condlist"
   ]
  },
  {
   "cell_type": "code",
   "execution_count": 22,
   "id": "4e5dd52b",
   "metadata": {},
   "outputs": [
    {
     "data": {
      "text/plain": [
       "[array([0, 1, 2, 3, 4, 5]), array([ 0,  1,  4,  9, 16, 25], dtype=int32)]"
      ]
     },
     "execution_count": 22,
     "metadata": {},
     "output_type": "execute_result"
    }
   ],
   "source": [
    "np.select"
   ]
  },
  {
   "cell_type": "code",
   "execution_count": 48,
   "id": "efd86e81",
   "metadata": {},
   "outputs": [
    {
     "data": {
      "text/plain": [
       "<matplotlib.image.AxesImage at 0x25aa50f8c70>"
      ]
     },
     "execution_count": 48,
     "metadata": {},
     "output_type": "execute_result"
    },
    {
     "data": {
      "image/png": "[encoded data removed]",
      "text/plain": [
       "<Figure size 432x288 with 1 Axes>"
      ]
     },
     "metadata": {
      "needs_background": "light"
     },
     "output_type": "display_data"
    }
   ],
   "source": [
    "# open gdal file\n",
    "fa_gd = gdal.Open(fa_file)\n",
    "\n",
    "# open coordinates\n",
    "top_left_lon, w_e_px_res, _, top_left_lat, _, n_s_px_res = fa_gd.GetGeoTransform()\n",
    "\n",
    "# get x and y offsets of start point\n",
    "x_offset = int(np.floor((lon - top_left_lon)/w_e_px_res))\n",
    "y_offset = int(np.floor((lat - top_left_lat)/n_s_px_res))\n",
    "x_start = x_offset\n",
    "y_start = y_offset\n",
    "# read flow accumulation as array\n",
    "fa_arr = fa_gd.ReadAsArray()\n",
    "\n",
    "# get starting data\n",
    "fa_coords = np.array([[y_offset, x_offset]])\n",
    "\n",
    "w_coords = np.array([(-1, -1), (-1, 0), (-1, 1), (0, -1), (0, 1), (1, -1), (1, 0), (1, 1)])\n",
    "x_coords = np.zeros(fa_arr.shape[0] * fa_arr.shape[1], dtype=int)\n",
    "y_coords = np.zeros_like(x_coords, dtype=int)\n",
    "x_coords[0] = x_offset\n",
    "y_coords[0] = y_offset\n",
    "basin_arr = np.full(fa_arr.shape, False, dtype=bool)\n",
    "basin_arr[x_offset, y_offset] = True\n",
    "\n",
    "@jit(nopython=True)\n",
    "def sub_basin_algo(x_offset, y_offset, fa_arr, w_coords, x_coords, y_coords, basin_arr):\n",
    "    \n",
    "    ic = 0\n",
    "    jc = 0\n",
    "    while True:\n",
    "\n",
    "        y_offset = y_coords[ic]\n",
    "        x_offset = x_coords[ic]\n",
    "\n",
    "        # get value of coordinates\n",
    "        fa_val = fa_arr[y_offset,x_offset]\n",
    "        \n",
    "        # iterate over window\n",
    "        for i in range(-1,2,1):\n",
    "            \n",
    "            # make new coordinate\n",
    "            y_offset_n = y_offset + i\n",
    "            \n",
    "            for j in range(-1,2,1):\n",
    "                \n",
    "                x_offset_n = x_offset + j\n",
    "\n",
    "                # check if flow accumulation value of window is higher than original\n",
    "                if not basin_arr[y_offset_n, x_offset_n]:\n",
    "                    \n",
    "                    fa_val_new = fa_arr[y_offset_n, x_offset_n]\n",
    "\n",
    "                    if fa_val_new < fa_val:\n",
    "                        jc += 1\n",
    "                        basin_arr[y_offset_n, x_offset_n] = True\n",
    "                        y_coords[jc] = y_offset_n\n",
    "                        x_coords[jc] = x_offset_n\n",
    "\n",
    "        # increment counter\n",
    "        ic+=1\n",
    "        if ic > jc:\n",
    "            break\n",
    "    return basin_arr, x_coords, y_coords\n",
    "\n",
    "basin_arr, x_coords, y_coords = sub_basin_algo(x_offset, y_offset, fa_arr, w_coords, x_coords, y_coords, basin_arr)\n",
    "\n",
    "plt.figure()\n",
    "plt.imshow(basin_arr[1325:1450, 650:750])        \n"
   ]
  },
  {
   "cell_type": "code",
   "execution_count": 50,
   "id": "310adfda",
   "metadata": {},
   "outputs": [],
   "source": [
    "\n",
    "\n"
   ]
  },
  {
   "cell_type": "code",
   "execution_count": 53,
   "id": "d1710c7f",
   "metadata": {},
   "outputs": [
    {
     "data": {
      "text/plain": [
       "<matplotlib.image.AxesImage at 0x25aa58c70a0>"
      ]
     },
     "execution_count": 53,
     "metadata": {},
     "output_type": "execute_result"
    },
    {
     "data": {
      "image/png": "[encoded data removed]",
      "text/plain": [
       "<Figure size 432x288 with 1 Axes>"
      ]
     },
     "metadata": {
      "needs_background": "light"
     },
     "output_type": "display_data"
    }
   ],
   "source": [
    "plt.imshow(ndimage.binary_fill_holes(basin_arr))"
   ]
  },
  {
   "cell_type": "code",
   "execution_count": 49,
   "id": "001d1d6f",
   "metadata": {},
   "outputs": [
    {
     "data": {
      "text/plain": [
       "<matplotlib.image.AxesImage at 0x25aa50d4760>"
      ]
     },
     "execution_count": 49,
     "metadata": {},
     "output_type": "execute_result"
    },
    {
     "data": {
      "image/png": "[encoded data removed]",
      "text/plain": [
       "<Figure size 432x288 with 1 Axes>"
      ]
     },
     "metadata": {
      "needs_background": "light"
     },
     "output_type": "display_data"
    }
   ],
   "source": [
    "plt.imshow(basin_arr)"
   ]
  },
  {
   "cell_type": "code",
   "execution_count": null,
   "id": "12a90666",
   "metadata": {},
   "outputs": [],
   "source": []
  },
  {
   "cell_type": "code",
   "execution_count": null,
   "id": "afef8890",
   "metadata": {},
   "outputs": [],
   "source": []
  },
  {
   "cell_type": "code",
   "execution_count": 46,
   "id": "e265fa98",
   "metadata": {},
   "outputs": [
    {
     "data": {
      "text/plain": [
       "<matplotlib.image.AxesImage at 0x25aa3c9cc70>"
      ]
     },
     "execution_count": 46,
     "metadata": {},
     "output_type": "execute_result"
    },
    {
     "data": {
      "image/png": "[encoded data removed]",
      "text/plain": [
       "<Figure size 432x288 with 1 Axes>"
      ]
     },
     "metadata": {
      "needs_background": "light"
     },
     "output_type": "display_data"
    }
   ],
   "source": [
    "# open gdal file\n",
    "fa_gd = gdal.Open(fa_file)\n",
    "\n",
    "# open coordinates\n",
    "top_left_lon, w_e_px_res, _, top_left_lat, _, n_s_px_res = fa_gd.GetGeoTransform()\n",
    "\n",
    "# get x and y offsets of start point\n",
    "x_offset = int(np.floor((lon - top_left_lon)/w_e_px_res))\n",
    "y_offset = int(np.floor((lat - top_left_lat)/n_s_px_res))\n",
    "x_start = x_offset\n",
    "y_start = y_offset\n",
    "# read flow accumulation as array\n",
    "fa_arr = fa_gd.ReadAsArray()\n",
    "\n",
    "# get starting data\n",
    "fa_coords = np.array([[y_offset, x_offset]])\n",
    "\n",
    "w_coords = np.array([(-1, -1), (-1, 0), (-1, 1), (0, -1), (0, 1), (1, -1), (1, 0), (1, 1)])\n",
    "x_coords = np.zeros(fa_arr.shape[0] * fa_arr.shape[1], dtype=int)\n",
    "y_coords = np.zeros_like(x_coords, dtype=int)\n",
    "x_coords[0] = x_offset\n",
    "y_coords[0] = y_offset\n",
    "basin_arr = np.full(fa_arr.shape, 0, dtype=int)\n",
    "basin_arr[x_offset, y_offset] = 0\n",
    "\n",
    "@jit(nopython=True)\n",
    "def sub_basin_algo(x_offset, y_offset, fa_arr, w_coords, x_coords, y_coords, basin_arr):\n",
    "    \n",
    "    ic = 0\n",
    "    jc = 0\n",
    "    while True:\n",
    "\n",
    "        y_offset = y_coords[ic]\n",
    "        x_offset = x_coords[ic]\n",
    "\n",
    "        # get value of coordinates\n",
    "        fa_val = fa_arr[y_offset,x_offset]\n",
    "        \n",
    "        # iterate over window\n",
    "        for i in range(-1,2,1):\n",
    "            \n",
    "            # make new coordinate\n",
    "            y_offset_n = y_offset + i\n",
    "            \n",
    "            for j in range(-1,2,1):\n",
    "                \n",
    "                x_offset_n = x_offset + j\n",
    "\n",
    "                # check if flow accumulation value of window is higher than original\n",
    "                if not basin_arr[y_offset_n, x_offset_n]:\n",
    "                    \n",
    "                    fa_val_new = fa_arr[y_offset_n, x_offset_n]\n",
    "\n",
    "                    if fa_val_new < fa_val:\n",
    "                        jc += 1\n",
    "                        basin_arr[y_offset_n, x_offset_n] = jc\n",
    "                        y_coords[jc] = y_offset_n\n",
    "                        x_coords[jc] = x_offset_n\n",
    "\n",
    "        # increment counter\n",
    "        ic+=1\n",
    "        if ic > jc:\n",
    "            break\n",
    "    return basin_arr, x_coords, y_coords\n",
    "\n",
    "basin_arr, x_coords, y_coords = sub_basin_algo(x_offset, y_offset, fa_arr, w_coords, x_coords, y_coords, basin_arr)\n",
    "\n",
    "plt.figure()\n",
    "plt.imshow(basin_arr[1325:1450, 650:750])        \n"
   ]
  },
  {
   "cell_type": "code",
   "execution_count": 47,
   "id": "dc049f5f",
   "metadata": {},
   "outputs": [
    {
     "data": {
      "text/plain": [
       "<matplotlib.image.AxesImage at 0x25aa6b36790>"
      ]
     },
     "execution_count": 47,
     "metadata": {},
     "output_type": "execute_result"
    },
    {
     "data": {
      "image/png": "[encoded data removed]",
      "text/plain": [
       "<Figure size 432x288 with 1 Axes>"
      ]
     },
     "metadata": {
      "needs_background": "light"
     },
     "output_type": "display_data"
    }
   ],
   "source": [
    "plt.imshow(basin_arr)"
   ]
  },
  {
   "cell_type": "code",
   "execution_count": 38,
   "id": "315caf20",
   "metadata": {},
   "outputs": [
    {
     "data": {
      "text/plain": [
       "1159973"
      ]
     },
     "execution_count": 38,
     "metadata": {},
     "output_type": "execute_result"
    }
   ],
   "source": []
  },
  {
   "cell_type": "code",
   "execution_count": null,
   "id": "41b9a6cf",
   "metadata": {},
   "outputs": [],
   "source": []
  },
  {
   "cell_type": "code",
   "execution_count": null,
   "id": "77ed00c0",
   "metadata": {},
   "outputs": [],
   "source": [
    "# numy implementation"
   ]
  },
  {
   "cell_type": "code",
   "execution_count": 16,
   "id": "638d3de6",
   "metadata": {},
   "outputs": [
    {
     "ename": "KeyboardInterrupt",
     "evalue": "",
     "output_type": "error",
     "traceback": [
      "\u001b[1;31m---------------------------------------------------------------------------\u001b[0m",
      "\u001b[1;31mKeyboardInterrupt\u001b[0m                         Traceback (most recent call last)",
      "\u001b[1;32m~\\AppData\\Local\\Temp/ipykernel_16040/2096379881.py\u001b[0m in \u001b[0;36m<module>\u001b[1;34m\u001b[0m\n\u001b[0;32m     55\u001b[0m \u001b[1;33m\u001b[0m\u001b[0m\n\u001b[0;32m     56\u001b[0m     \u001b[1;32mreturn\u001b[0m \u001b[0mbasin_arr\u001b[0m\u001b[1;33m,\u001b[0m \u001b[0mfa_coords\u001b[0m\u001b[1;33m\u001b[0m\u001b[1;33m\u001b[0m\u001b[0m\n\u001b[1;32m---> 57\u001b[1;33m \u001b[0mbasin_arr\u001b[0m\u001b[1;33m,\u001b[0m \u001b[0mfa_coords\u001b[0m \u001b[1;33m=\u001b[0m \u001b[0msub_basin_algo\u001b[0m\u001b[1;33m(\u001b[0m\u001b[0mx_offset\u001b[0m\u001b[1;33m,\u001b[0m \u001b[0my_offset\u001b[0m\u001b[1;33m,\u001b[0m \u001b[0mfa_arr\u001b[0m\u001b[1;33m,\u001b[0m \u001b[0mfa_coords\u001b[0m\u001b[1;33m,\u001b[0m \u001b[0mwindow\u001b[0m\u001b[1;33m,\u001b[0m \u001b[0mbasin_arr\u001b[0m\u001b[1;33m)\u001b[0m\u001b[1;33m\u001b[0m\u001b[1;33m\u001b[0m\u001b[0m\n\u001b[0m\u001b[0;32m     58\u001b[0m \u001b[1;33m\u001b[0m\u001b[0m\n\u001b[0;32m     59\u001b[0m \u001b[0mplt\u001b[0m\u001b[1;33m.\u001b[0m\u001b[0mfigure\u001b[0m\u001b[1;33m(\u001b[0m\u001b[1;33m)\u001b[0m\u001b[1;33m\u001b[0m\u001b[1;33m\u001b[0m\u001b[0m\n",
      "\u001b[1;32m~\\AppData\\Local\\Temp/ipykernel_16040/2096379881.py\u001b[0m in \u001b[0;36msub_basin_algo\u001b[1;34m(x_offset, y_offset, fa_arr, fa_coords, window, basin_arr)\u001b[0m\n\u001b[0;32m     49\u001b[0m \u001b[1;33m\u001b[0m\u001b[0m\n\u001b[0;32m     50\u001b[0m         \u001b[1;31m# add coordinates to flow accumulation coordinate list\u001b[0m\u001b[1;33m\u001b[0m\u001b[1;33m\u001b[0m\u001b[0m\n\u001b[1;32m---> 51\u001b[1;33m         \u001b[0mfa_coords\u001b[0m \u001b[1;33m=\u001b[0m \u001b[0mnp\u001b[0m\u001b[1;33m.\u001b[0m\u001b[0mappend\u001b[0m\u001b[1;33m(\u001b[0m\u001b[0mfa_coords\u001b[0m\u001b[1;33m,\u001b[0m \u001b[0mselected_coords\u001b[0m\u001b[1;33m,\u001b[0m \u001b[0maxis\u001b[0m\u001b[1;33m=\u001b[0m\u001b[1;36m0\u001b[0m\u001b[1;33m)\u001b[0m\u001b[1;33m\u001b[0m\u001b[1;33m\u001b[0m\u001b[0m\n\u001b[0m\u001b[0;32m     52\u001b[0m \u001b[1;33m\u001b[0m\u001b[0m\n\u001b[0;32m     53\u001b[0m         \u001b[1;31m# increment counter\u001b[0m\u001b[1;33m\u001b[0m\u001b[1;33m\u001b[0m\u001b[0m\n",
      "\u001b[1;32m<__array_function__ internals>\u001b[0m in \u001b[0;36mappend\u001b[1;34m(*args, **kwargs)\u001b[0m\n",
      "\u001b[1;32m~\\Miniconda3\\envs\\geo_env\\lib\\site-packages\\numpy\\lib\\function_base.py\u001b[0m in \u001b[0;36mappend\u001b[1;34m(arr, values, axis)\u001b[0m\n\u001b[0;32m   4815\u001b[0m         \u001b[0mvalues\u001b[0m \u001b[1;33m=\u001b[0m \u001b[0mravel\u001b[0m\u001b[1;33m(\u001b[0m\u001b[0mvalues\u001b[0m\u001b[1;33m)\u001b[0m\u001b[1;33m\u001b[0m\u001b[1;33m\u001b[0m\u001b[0m\n\u001b[0;32m   4816\u001b[0m         \u001b[0maxis\u001b[0m \u001b[1;33m=\u001b[0m \u001b[0marr\u001b[0m\u001b[1;33m.\u001b[0m\u001b[0mndim\u001b[0m\u001b[1;33m-\u001b[0m\u001b[1;36m1\u001b[0m\u001b[1;33m\u001b[0m\u001b[1;33m\u001b[0m\u001b[0m\n\u001b[1;32m-> 4817\u001b[1;33m     \u001b[1;32mreturn\u001b[0m \u001b[0mconcatenate\u001b[0m\u001b[1;33m(\u001b[0m\u001b[1;33m(\u001b[0m\u001b[0marr\u001b[0m\u001b[1;33m,\u001b[0m \u001b[0mvalues\u001b[0m\u001b[1;33m)\u001b[0m\u001b[1;33m,\u001b[0m \u001b[0maxis\u001b[0m\u001b[1;33m=\u001b[0m\u001b[0maxis\u001b[0m\u001b[1;33m)\u001b[0m\u001b[1;33m\u001b[0m\u001b[1;33m\u001b[0m\u001b[0m\n\u001b[0m\u001b[0;32m   4818\u001b[0m \u001b[1;33m\u001b[0m\u001b[0m\n\u001b[0;32m   4819\u001b[0m \u001b[1;33m\u001b[0m\u001b[0m\n",
      "\u001b[1;32m<__array_function__ internals>\u001b[0m in \u001b[0;36mconcatenate\u001b[1;34m(*args, **kwargs)\u001b[0m\n",
      "\u001b[1;31mKeyboardInterrupt\u001b[0m: "
     ]
    }
   ],
   "source": [
    "# open gdal file\n",
    "fa_gd = gdal.Open(fa_file)\n",
    "\n",
    "# open coordinates\n",
    "top_left_lon, w_e_px_res, _, top_left_lat, _, n_s_px_res = fa_gd.GetGeoTransform()\n",
    "\n",
    "# get x and y offsets of start point\n",
    "x_offset = int(np.floor((lon - top_left_lon)/w_e_px_res))\n",
    "y_offset = int(np.floor((lat - top_left_lat)/n_s_px_res))\n",
    "x_start = x_offset\n",
    "y_start = y_offset\n",
    "# read flow accumulation as array\n",
    "fa_arr = fa_gd.ReadAsArray()\n",
    "\n",
    "# get starting data\n",
    "fa_coords = np.array([[y_offset, x_offset]])\n",
    "three = [-1,0,1]\n",
    "window = np.array([(i, j) for i in three for j in three]).reshape(3,3,2)\n",
    "basin_arr = np.full(fa_arr.shape, False, dtype=bool)\n",
    "\n",
    "\n",
    "def sub_basin_algo(x_offset, y_offset, fa_arr, fa_coords, window, basin_arr):\n",
    "    \n",
    "    i = 0\n",
    "    while True:\n",
    "\n",
    "        # check if we have not exceeded the length of the array aka we are done\n",
    "        if i >= len(fa_coords): # switch for fa_coords\n",
    "            break\n",
    "\n",
    "        y_offset = fa_coords[i][0]\n",
    "        x_offset = fa_coords[i][1]\n",
    "\n",
    "        # get value of coordinates\n",
    "        fa_val = fa_arr[y_offset, x_offset]\n",
    "\n",
    "        # build 3x3 window around that of accumulation and corresponding coordinates\n",
    "        fa_window = fa_arr[y_offset-1:y_offset+2, x_offset-1:x_offset+2]\n",
    "        basin_window = basin_arr[y_offset-1:y_offset+2, x_offset-1:x_offset+2]\n",
    "        coord_window = np.array([y_offset,x_offset]) + window\n",
    "\n",
    "        # make selection part window that has less cells above than the current value\n",
    "        # also remove already selected parts\n",
    "        selection = [fa_window <= fa_val][0] & np.invert(basin_window)\n",
    "        selected_coords = coord_window[selection]\n",
    "        \n",
    "        # fill in True values in basin array\n",
    "        basin_arr[y_offset-1:y_offset+2, x_offset-1:x_offset+2] = basin_arr[y_offset-1:y_offset+2, x_offset-1:x_offset+2] | selection\n",
    "\n",
    "        # add coordinates to flow accumulation coordinate list\n",
    "        fa_coords = np.append(fa_coords, selected_coords, axis=0)\n",
    "\n",
    "        # increment counter\n",
    "        i+=1\n",
    "    \n",
    "    return basin_arr, fa_coords\n",
    "basin_arr, fa_coords = sub_basin_algo(x_offset, y_offset, fa_arr, fa_coords, window, basin_arr)\n",
    "\n",
    "plt.figure()\n",
    "plt.imshow(basin_arr[1325:1450, 650:750])        \n"
   ]
  },
  {
   "cell_type": "code",
   "execution_count": 15,
   "id": "a8f1f8fb",
   "metadata": {},
   "outputs": [
    {
     "data": {
      "text/plain": [
       "4"
      ]
     },
     "execution_count": 15,
     "metadata": {},
     "output_type": "execute_result"
    }
   ],
   "source": []
  },
  {
   "cell_type": "code",
   "execution_count": null,
   "id": "e42f6d4e",
   "metadata": {},
   "outputs": [],
   "source": []
  }
 ],
 "metadata": {
  "kernelspec": {
   "display_name": "geodata",
   "language": "python",
   "name": "python3"
  },
  "language_info": {
   "codemirror_mode": {
    "name": "ipython",
    "version": 3
   },
   "file_extension": ".py",
   "mimetype": "text/x-python",
   "name": "python",
   "nbconvert_exporter": "python",
   "pygments_lexer": "ipython3",
   "version": "3.10.8 (main, Nov  4 2022, 13:48:29) [GCC 11.2.0]"
  },
  "vscode": {
   "interpreter": {
    "hash": "4f0c32863f4722d9175bb66fb26a8842f33244042d2d101e7ac01da0f7671daa"
   }
  }
 },
 "nbformat": 4,
 "nbformat_minor": 5
}
